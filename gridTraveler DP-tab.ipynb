{
 "cells": [
  {
   "cell_type": "code",
   "execution_count": 1,
   "metadata": {},
   "outputs": [],
   "source": [
    "def gridTraveler(rows: int, cols: int) -> int:\n",
    "    tab = [[0] * (cols + 1) for i in range(rows + 1)]\n",
    "    tab[1][1] = 1\n",
    "    for i in range (rows + 1):\n",
    "        for j in range(cols + 1):\n",
    "            if i + 1 >= 0 and i + 1 <= rows:\n",
    "                tab[i+1][j] += tab[i][j]\n",
    "            if j + 1 >= 0 and j + 1 <= cols:\n",
    "                tab[i][j+1] += tab[i][j]\n",
    "    return tab[rows][cols]\n"
   ]
  },
  {
   "cell_type": "code",
   "execution_count": 2,
   "metadata": {},
   "outputs": [
    {
     "name": "stdout",
     "output_type": "stream",
     "text": [
      "6\n",
      "3003\n"
     ]
    }
   ],
   "source": [
    "print(gridTraveler(3,3))\n",
    "print(gridTraveler(7,9))"
   ]
  }
 ],
 "metadata": {
  "kernelspec": {
   "display_name": "Python 3.7.10 ('base')",
   "language": "python",
   "name": "python3"
  },
  "language_info": {
   "codemirror_mode": {
    "name": "ipython",
    "version": 3
   },
   "file_extension": ".py",
   "mimetype": "text/x-python",
   "name": "python",
   "nbconvert_exporter": "python",
   "pygments_lexer": "ipython3",
   "version": "3.7.10"
  },
  "orig_nbformat": 4,
  "vscode": {
   "interpreter": {
    "hash": "2a443bab472a49b93b861715006f8259a6f60b16d2eafa2472f4c440486ab766"
   }
  }
 },
 "nbformat": 4,
 "nbformat_minor": 2
}
