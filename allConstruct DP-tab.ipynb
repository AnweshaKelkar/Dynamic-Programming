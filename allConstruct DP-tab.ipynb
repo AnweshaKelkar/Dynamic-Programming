{
 "cells": [
  {
   "cell_type": "code",
   "execution_count": 1,
   "metadata": {},
   "outputs": [],
   "source": [
    "def allConstruct(target: str, words: 'list[str]') -> 'list[list[str]]':\n",
    "    size = len(target)\n",
    "    tab = [[] for _ in range(size + 1)]\n",
    "    tab[0] = [[]]\n",
    "    \n",
    "    for cur in range(size + 1):\n",
    "        for word in words:\n",
    "            if target[cur:].startswith(word):\n",
    "                new_combinations = list(map(lambda sub_array: [word for word in sub_array] + [word], tab[cur]))\n",
    "                tab[cur + len(word)].extend(new_combinations)\n",
    "    return tab[size]"
   ]
  },
  {
   "cell_type": "code",
   "execution_count": 2,
   "metadata": {},
   "outputs": [
    {
     "name": "stdout",
     "output_type": "stream",
     "text": [
      "[['abc', 'def'], ['ab', 'c', 'def'], ['abcd', 'ef'], ['ab', 'cd', 'ef']]\n",
      "[]\n"
     ]
    }
   ],
   "source": [
    "print(allConstruct(\"abcdef\",[\"ab\", \"abc\", \"cd\", \"def\", \"abcd\", \"ef\", \"c\"]))\n",
    "print(allConstruct(\"aaaaaaaaaaaaaaaaaz\",[\"aaaaa\", \"aaaaaaa\", \"aa\", \"aaa\"]))"
   ]
  }
 ],
 "metadata": {
  "kernelspec": {
   "display_name": "Python 3.8.9 64-bit",
   "language": "python",
   "name": "python3"
  },
  "language_info": {
   "codemirror_mode": {
    "name": "ipython",
    "version": 3
   },
   "file_extension": ".py",
   "mimetype": "text/x-python",
   "name": "python",
   "nbconvert_exporter": "python",
   "pygments_lexer": "ipython3",
   "version": "3.8.9"
  },
  "orig_nbformat": 4,
  "vscode": {
   "interpreter": {
    "hash": "31f2aee4e71d21fbe5cf8b01ff0e069b9275f58929596ceb00d14d90e3e16cd6"
   }
  }
 },
 "nbformat": 4,
 "nbformat_minor": 2
}
