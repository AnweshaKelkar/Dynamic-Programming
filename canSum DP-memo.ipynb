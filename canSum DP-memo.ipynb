{
 "cells": [
  {
   "cell_type": "code",
   "execution_count": 2,
   "metadata": {},
   "outputs": [],
   "source": [
    "def canSum(targetSum, numbers, memo=None):\n",
    "    if memo == None:\n",
    "        memo = {}\n",
    "\n",
    "    if targetSum in memo:\n",
    "        return memo[targetSum]\n",
    "    if targetSum == 0:\n",
    "        return True\n",
    "    if targetSum < 0:\n",
    "        return False\n",
    "\n",
    "    for n in numbers:\n",
    "        remainder = targetSum - n\n",
    "        if canSum(remainder, numbers, memo):\n",
    "            memo[targetSum] = True\n",
    "            return True\n",
    "\n",
    "    memo[targetSum] = False\n",
    "    return False"
   ]
  },
  {
   "cell_type": "code",
   "execution_count": 3,
   "metadata": {},
   "outputs": [
    {
     "name": "stdout",
     "output_type": "stream",
     "text": [
      "True\n",
      "True\n",
      "False\n"
     ]
    }
   ],
   "source": [
    "print(canSum(7, [2, 3])) \n",
    "print(canSum(7, [5, 3, 4, 7])) \n",
    "print(canSum(3000, [7, 14])) "
   ]
  }
 ],
 "metadata": {
  "kernelspec": {
   "display_name": "Python 3.8.8 ('base')",
   "language": "python",
   "name": "python3"
  },
  "language_info": {
   "codemirror_mode": {
    "name": "ipython",
    "version": 3
   },
   "file_extension": ".py",
   "mimetype": "text/x-python",
   "name": "python",
   "nbconvert_exporter": "python",
   "pygments_lexer": "ipython3",
   "version": "3.7.10"
  },
  "orig_nbformat": 4,
  "vscode": {
   "interpreter": {
    "hash": "2a443bab472a49b93b861715006f8259a6f60b16d2eafa2472f4c440486ab766"
   }
  }
 },
 "nbformat": 4,
 "nbformat_minor": 2
}
