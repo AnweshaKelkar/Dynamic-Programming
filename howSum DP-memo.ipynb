{
 "cells": [
  {
   "cell_type": "code",
   "execution_count": 2,
   "metadata": {},
   "outputs": [],
   "source": [
    "def howSum(targetSum, nums, memo = None): \n",
    "\n",
    "    if memo is None:\n",
    "        memo = {}\n",
    "        \n",
    "    if targetSum in memo: return memo[targetSum]\n",
    "    if targetSum < 0: return None\n",
    "    if targetSum == 0: return []\n",
    "\n",
    "    for num in nums:\n",
    "        remainder = targetSum - num\n",
    "        remainderResult = howSum(remainder, nums , memo ) #pass memo as well\n",
    "        \n",
    "        if remainderResult is not None:\n",
    "            remainderResult.append(num)\n",
    "            memo[targetSum] = remainderResult\n",
    "            return memo[targetSum]\n",
    "        \n",
    "    memo[targetSum] = None"
   ]
  },
  {
   "cell_type": "code",
   "execution_count": 5,
   "metadata": {},
   "outputs": [
    {
     "name": "stdout",
     "output_type": "stream",
     "text": [
      "[3, 2, 2]\n",
      "[4, 3]\n",
      "None\n",
      "[2, 2, 2, 2]\n",
      "None\n"
     ]
    }
   ],
   "source": [
    "print(howSum(7, [2, 3])) # [3,2,2]\n",
    "print(howSum(7, [5, 3, 4, 7])) # [4,3]\n",
    "print(howSum(7, [2, 4])) # None\n",
    "print(howSum(8, [2, 3, 5])) # [2,2,2,2]\n",
    "print(howSum(300, [7,14])) # None"
   ]
  }
 ],
 "metadata": {
  "kernelspec": {
   "display_name": "Python 3.8.8 ('base')",
   "language": "python",
   "name": "python3"
  },
  "language_info": {
   "codemirror_mode": {
    "name": "ipython",
    "version": 3
   },
   "file_extension": ".py",
   "mimetype": "text/x-python",
   "name": "python",
   "nbconvert_exporter": "python",
   "pygments_lexer": "ipython3",
   "version": "3.7.10"
  },
  "orig_nbformat": 4,
  "vscode": {
   "interpreter": {
    "hash": "2a443bab472a49b93b861715006f8259a6f60b16d2eafa2472f4c440486ab766"
   }
  }
 },
 "nbformat": 4,
 "nbformat_minor": 2
}
