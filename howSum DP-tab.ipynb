{
 "cells": [
  {
   "cell_type": "code",
   "execution_count": 1,
   "metadata": {},
   "outputs": [],
   "source": [
    "def howSum(target: int, nums: 'list[int]') -> 'list[int]':\n",
    "    tab = [None] * (target + 1)\n",
    "    tab[0] = []\n",
    "    for cur in range(target + 1):\n",
    "        if tab[cur] is not None:\n",
    "            for num in nums:\n",
    "                if cur + num <= target:\n",
    "                    tab[cur + num] = [num] + [num for num in tab[cur]]\n",
    "    return tab[target]"
   ]
  },
  {
   "cell_type": "code",
   "execution_count": 2,
   "metadata": {},
   "outputs": [
    {
     "name": "stdout",
     "output_type": "stream",
     "text": [
      "[2, 2, 3]\n",
      "[3, 4]\n",
      "None\n",
      "[2, 2, 2, 2]\n",
      "None\n"
     ]
    }
   ],
   "source": [
    "print(howSum(7, [2, 3])) # [3,2,2]\n",
    "print(howSum(7, [5, 3, 4, 7])) # [4,3]\n",
    "print(howSum(7, [2, 4])) # None\n",
    "print(howSum(8, [2, 3, 5])) # [2,2,2,2]\n",
    "print(howSum(300, [7,14])) # None"
   ]
  }
 ],
 "metadata": {
  "kernelspec": {
   "display_name": "Python 3.7.10 ('base')",
   "language": "python",
   "name": "python3"
  },
  "language_info": {
   "codemirror_mode": {
    "name": "ipython",
    "version": 3
   },
   "file_extension": ".py",
   "mimetype": "text/x-python",
   "name": "python",
   "nbconvert_exporter": "python",
   "pygments_lexer": "ipython3",
   "version": "3.7.10"
  },
  "orig_nbformat": 4,
  "vscode": {
   "interpreter": {
    "hash": "2a443bab472a49b93b861715006f8259a6f60b16d2eafa2472f4c440486ab766"
   }
  }
 },
 "nbformat": 4,
 "nbformat_minor": 2
}
