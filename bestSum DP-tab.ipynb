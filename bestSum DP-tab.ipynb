{
 "cells": [
  {
   "cell_type": "code",
   "execution_count": 3,
   "metadata": {},
   "outputs": [],
   "source": [
    "def bestSum(target: int, nums: 'list[int]') -> 'list[int]':\n",
    "    tab = [None] * (target + 1)\n",
    "    tab[0] = []\n",
    "\n",
    "    for cur in range(target + 1):\n",
    "        if tab[cur] is not None:\n",
    "            for num in nums:\n",
    "                if cur + num <= target:\n",
    "                    cur_array = [num] + [num for num in tab[cur]]\n",
    "                    if tab[cur + num] is None or len(tab[cur + num]) > len(cur_array):\n",
    "                        tab[cur + num] = cur_array\n",
    "    return tab[target]"
   ]
  },
  {
   "cell_type": "code",
   "execution_count": 4,
   "metadata": {},
   "outputs": [
    {
     "name": "stdout",
     "output_type": "stream",
     "text": [
      "[5, 5]\n",
      "[25, 25, 25, 25]\n"
     ]
    }
   ],
   "source": [
    "print(bestSum(10, [2, 3, 5]))\n",
    "print(bestSum(100, [1 ,2, 5, 25]))"
   ]
  }
 ],
 "metadata": {
  "kernelspec": {
   "display_name": "Python 3.8.9 64-bit",
   "language": "python",
   "name": "python3"
  },
  "language_info": {
   "codemirror_mode": {
    "name": "ipython",
    "version": 3
   },
   "file_extension": ".py",
   "mimetype": "text/x-python",
   "name": "python",
   "nbconvert_exporter": "python",
   "pygments_lexer": "ipython3",
   "version": "3.8.9"
  },
  "orig_nbformat": 4,
  "vscode": {
   "interpreter": {
    "hash": "31f2aee4e71d21fbe5cf8b01ff0e069b9275f58929596ceb00d14d90e3e16cd6"
   }
  }
 },
 "nbformat": 4,
 "nbformat_minor": 2
}
