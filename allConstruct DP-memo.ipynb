{
 "cells": [
  {
   "cell_type": "code",
   "execution_count": 4,
   "metadata": {},
   "outputs": [],
   "source": [
    "def allConstruct(target: str, words: 'list[str]', memo = dict()) -> 'list[list[str]]':\n",
    "    if target == '':\n",
    "        return [[]]\n",
    "\n",
    "    if target in memo:\n",
    "        return memo.get(target)\n",
    "\n",
    "    result = []\n",
    "    for word in words:\n",
    "        if target.startswith(word):\n",
    "            suffix = allConstruct(target[len(word):], words)\n",
    "            for targetWays in suffix:\n",
    "                targetWays = [word] + targetWays\n",
    "                result.append(targetWays)\n",
    "                \n",
    "    memo[target] = result\n",
    "    return result"
   ]
  },
  {
   "cell_type": "code",
   "execution_count": 6,
   "metadata": {},
   "outputs": [
    {
     "name": "stdout",
     "output_type": "stream",
     "text": [
      "[['ab', 'cd', 'ef'], ['ab', 'c', 'def'], ['abc', 'def'], ['abcd', 'ef']]\n",
      "[]\n"
     ]
    }
   ],
   "source": [
    "print(allConstruct(\"abcdef\",[\"ab\", \"abc\", \"cd\", \"def\", \"abcd\", \"ef\", \"c\"]))\n",
    "print(allConstruct(\"aaaaaaaaaaaaaaaaaz\",[\"aaaaa\", \"aaaaaaa\", \"aa\", \"aaa\"]))"
   ]
  }
 ],
 "metadata": {
  "kernelspec": {
   "display_name": "Python 3.7.10 ('base')",
   "language": "python",
   "name": "python3"
  },
  "language_info": {
   "codemirror_mode": {
    "name": "ipython",
    "version": 3
   },
   "file_extension": ".py",
   "mimetype": "text/x-python",
   "name": "python",
   "nbconvert_exporter": "python",
   "pygments_lexer": "ipython3",
   "version": "3.7.10"
  },
  "orig_nbformat": 4,
  "vscode": {
   "interpreter": {
    "hash": "2a443bab472a49b93b861715006f8259a6f60b16d2eafa2472f4c440486ab766"
   }
  }
 },
 "nbformat": 4,
 "nbformat_minor": 2
}
