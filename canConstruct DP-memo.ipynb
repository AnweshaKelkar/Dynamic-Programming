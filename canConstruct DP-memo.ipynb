{
 "cells": [
  {
   "cell_type": "code",
   "execution_count": 2,
   "metadata": {},
   "outputs": [],
   "source": [
    "def canConstruct(target, wordbank, memo=None):\n",
    "    if memo is None:memo={}\n",
    "    if target in memo:return memo[target]\n",
    "    if target == '':return True\n",
    "\n",
    "    for word in wordbank:\n",
    "        if target.startswith(word):\n",
    "            suffix = target.replace(word, '', 1)\n",
    "            \n",
    "            if canConstruct(suffix, wordbank, memo) == True:\n",
    "                memo[target] = True\n",
    "                return True\n",
    "\n",
    "    memo[target] = False\n",
    "    return False"
   ]
  },
  {
   "cell_type": "code",
   "execution_count": 4,
   "metadata": {},
   "outputs": [
    {
     "name": "stdout",
     "output_type": "stream",
     "text": [
      "True\n",
      "False\n"
     ]
    }
   ],
   "source": [
    "print(canConstruct('aabbc',['aa','b','c']))\n",
    "print(canConstruct('eeeeeeeeeeeeeeeeeeeeeeeeeeeeeeeeeeeef',['e','ee','eee','eeee','eeeee','eeeeee']))"
   ]
  }
 ],
 "metadata": {
  "kernelspec": {
   "display_name": "Python 3.7.10 ('base')",
   "language": "python",
   "name": "python3"
  },
  "language_info": {
   "codemirror_mode": {
    "name": "ipython",
    "version": 3
   },
   "file_extension": ".py",
   "mimetype": "text/x-python",
   "name": "python",
   "nbconvert_exporter": "python",
   "pygments_lexer": "ipython3",
   "version": "3.7.10"
  },
  "orig_nbformat": 4,
  "vscode": {
   "interpreter": {
    "hash": "2a443bab472a49b93b861715006f8259a6f60b16d2eafa2472f4c440486ab766"
   }
  }
 },
 "nbformat": 4,
 "nbformat_minor": 2
}
