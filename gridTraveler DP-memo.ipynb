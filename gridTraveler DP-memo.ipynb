{
 "cells": [
  {
   "cell_type": "code",
   "execution_count": 2,
   "metadata": {},
   "outputs": [],
   "source": [
    "def gridTraveler(rows: int, cols: int, memo = dict()) -> int:\n",
    "    if rows is 0 or cols is 0:\n",
    "        return 0\n",
    "    if rows is 1 and cols is 1:\n",
    "        return 1\n",
    "    \n",
    "    if f'{rows},{cols}' in memo:\n",
    "        return memo[f'{rows},{cols}']\n",
    "\n",
    "    ans = gridTraveler(rows - 1, cols, memo) + gridTraveler(rows, cols - 1, memo)\n",
    "    memo[f'{rows},{cols}'] = ans\n",
    "    return ans"
   ]
  },
  {
   "cell_type": "code",
   "execution_count": 4,
   "metadata": {},
   "outputs": [
    {
     "name": "stdout",
     "output_type": "stream",
     "text": [
      "6\n",
      "3003\n"
     ]
    }
   ],
   "source": [
    "print(gridTraveler(3,3))\n",
    "print(gridTraveler(7,9))"
   ]
  }
 ],
 "metadata": {
  "kernelspec": {
   "display_name": "Python 3.8.8 ('base')",
   "language": "python",
   "name": "python3"
  },
  "language_info": {
   "codemirror_mode": {
    "name": "ipython",
    "version": 3
   },
   "file_extension": ".py",
   "mimetype": "text/x-python",
   "name": "python",
   "nbconvert_exporter": "python",
   "pygments_lexer": "ipython3",
   "version": "3.7.10"
  },
  "orig_nbformat": 4,
  "vscode": {
   "interpreter": {
    "hash": "2a443bab472a49b93b861715006f8259a6f60b16d2eafa2472f4c440486ab766"
   }
  }
 },
 "nbformat": 4,
 "nbformat_minor": 2
}
