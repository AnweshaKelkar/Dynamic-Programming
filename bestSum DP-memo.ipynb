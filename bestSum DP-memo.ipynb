{
 "cells": [
  {
   "cell_type": "code",
   "execution_count": 1,
   "metadata": {},
   "outputs": [],
   "source": [
    "def bestSum(sum, numbers, memo={}):\n",
    "    if sum == 0:\n",
    "        return []\n",
    "    elif sum < 0:\n",
    "        return False\n",
    "    else:\n",
    "        if sum not in memo:\n",
    "            for number in numbers:\n",
    "                remainder = sum - number\n",
    "                shortest_combination = bestSum(remainder, numbers, memo)\n",
    "                if shortest_combination != False:\n",
    "                    if (\n",
    "                        sum not in memo\n",
    "                        or len(memo[sum]) > len(shortest_combination) + 1\n",
    "                    ):\n",
    "                        currently_best_combination = shortest_combination.copy()\n",
    "                        currently_best_combination.insert(0, number)\n",
    "                        memo[sum] = currently_best_combination\n",
    "            if sum in memo: \n",
    "                return memo[sum]\n",
    "            else:\n",
    "                return False\n",
    "        else:\n",
    "            return memo[sum]"
   ]
  },
  {
   "cell_type": "code",
   "execution_count": 2,
   "metadata": {},
   "outputs": [
    {
     "name": "stdout",
     "output_type": "stream",
     "text": [
      "[5, 5]\n",
      "[25, 25, 25, 25]\n"
     ]
    }
   ],
   "source": [
    "print(bestSum(10, [2, 3, 5]))\n",
    "print(bestSum(100, [1 ,2, 5, 25]))"
   ]
  }
 ],
 "metadata": {
  "kernelspec": {
   "display_name": "Python 3.8.8 ('base')",
   "language": "python",
   "name": "python3"
  },
  "language_info": {
   "codemirror_mode": {
    "name": "ipython",
    "version": 3
   },
   "file_extension": ".py",
   "mimetype": "text/x-python",
   "name": "python",
   "nbconvert_exporter": "python",
   "pygments_lexer": "ipython3",
   "version": "3.7.10"
  },
  "orig_nbformat": 4,
  "vscode": {
   "interpreter": {
    "hash": "2a443bab472a49b93b861715006f8259a6f60b16d2eafa2472f4c440486ab766"
   }
  }
 },
 "nbformat": 4,
 "nbformat_minor": 2
}
